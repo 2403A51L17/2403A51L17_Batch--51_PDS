{
  "nbformat": 4,
  "nbformat_minor": 0,
  "metadata": {
    "colab": {
      "provenance": [],
      "authorship_tag": "ABX9TyP4j1bl34FYXV99RPAnn4Uv",
      "include_colab_link": true
    },
    "kernelspec": {
      "name": "python3",
      "display_name": "Python 3"
    },
    "language_info": {
      "name": "python"
    }
  },
  "cells": [
    {
      "cell_type": "markdown",
      "metadata": {
        "id": "view-in-github",
        "colab_type": "text"
      },
      "source": [
        "<a href=\"https://colab.research.google.com/github/2403A51L17/2403A51L17_Batch--51_PDS/blob/main/Lab_3_2d_matrix_multiplication.ipynb\" target=\"_parent\"><img src=\"https://colab.research.google.com/assets/colab-badge.svg\" alt=\"Open In Colab\"/></a>"
      ]
    },
    {
      "cell_type": "code",
      "execution_count": 1,
      "metadata": {
        "colab": {
          "base_uri": "https://localhost:8080/"
        },
        "id": "zL_b9GQYepfd",
        "outputId": "cf1e3588-ef2a-49ac-d4b7-c1c61ec25d77"
      },
      "outputs": [
        {
          "output_type": "stream",
          "name": "stdout",
          "text": [
            "Matrix 1:\n",
            "[[1 2]\n",
            " [3 4]\n",
            " [5 6]]\n",
            "\n",
            "Matrix 2:\n",
            "[[ 7  8  9]\n",
            " [10 11 12]]\n",
            "\n",
            "Dot product using np.dot():\n",
            "[[ 27  30  33]\n",
            " [ 61  68  75]\n",
            " [ 95 106 117]]\n",
            "\n",
            "Dot product using @ operator:\n",
            "[[ 27  30  33]\n",
            " [ 61  68  75]\n",
            " [ 95 106 117]]\n",
            "\n",
            "Are the results from np.dot() and @ operator the same?\n",
            "True\n",
            "\n",
            "Example of a filter kernel (simplified):\n",
            "[[0.11111111 0.11111111 0.11111111]\n",
            " [0.11111111 0.11111111 0.11111111]\n",
            " [0.11111111 0.11111111 0.11111111]]\n"
          ]
        }
      ],
      "source": [
        "import numpy as np\n",
        "\n",
        "matrix1 = np.array([[1, 2],\n",
        "                    [3, 4],\n",
        "                    [5, 6]])\n",
        "\n",
        "matrix2 = np.array([[7, 8, 9],\n",
        "                    [10, 11, 12]])\n",
        "\n",
        "print(\"Matrix 1:\")\n",
        "print(matrix1)\n",
        "print(\"\\nMatrix 2:\")\n",
        "print(matrix2)\n",
        "\n",
        "dot_product_np = np.dot(matrix1, matrix2)\n",
        "print(\"\\nDot product using np.dot():\")\n",
        "print(dot_product_np)\n",
        "\n",
        "dot_product_at = matrix1 @ matrix2\n",
        "print(\"\\nDot product using @ operator:\")\n",
        "print(dot_product_at)\n",
        "\n",
        "print(\"\\nAre the results from np.dot() and @ operator the same?\")\n",
        "print(np.array_equal(dot_product_np, dot_product_at))\n",
        "\n",
        "\n",
        "filter_kernel = np.array([[1/9, 1/9, 1/9],\n",
        "                          [1/9, 1/9, 1/9],\n",
        "                          [1/9, 1/9, 1/9]])\n",
        "\n",
        "print(\"\\nExample of a filter kernel (simplified):\")\n",
        "print(filter_kernel)"
      ]
    },
    {
      "cell_type": "code",
      "source": [],
      "metadata": {
        "id": "EcoYj4iXe-HT"
      },
      "execution_count": null,
      "outputs": []
    }
  ]
}