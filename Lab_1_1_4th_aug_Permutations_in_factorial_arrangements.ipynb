{
  "nbformat": 4,
  "nbformat_minor": 0,
  "metadata": {
    "colab": {
      "provenance": [],
      "authorship_tag": "ABX9TyNE4QIouVsyxj7HodIgyVoU",
      "include_colab_link": true
    },
    "kernelspec": {
      "name": "python3",
      "display_name": "Python 3"
    },
    "language_info": {
      "name": "python"
    }
  },
  "cells": [
    {
      "cell_type": "markdown",
      "metadata": {
        "id": "view-in-github",
        "colab_type": "text"
      },
      "source": [
        "<a href=\"https://colab.research.google.com/github/2403A51L17/2403A51L17_Batch--51_PDS/blob/main/Lab_1_1_4th_aug_Permutations_in_factorial_arrangements.ipynb\" target=\"_parent\"><img src=\"https://colab.research.google.com/assets/colab-badge.svg\" alt=\"Open In Colab\"/></a>"
      ]
    },
    {
      "cell_type": "code",
      "execution_count": 4,
      "metadata": {
        "colab": {
          "base_uri": "https://localhost:8080/"
        },
        "id": "6IGSK4XBbKkB",
        "outputId": "46479372-2462-453f-c108-9588d3d58561"
      },
      "outputs": [
        {
          "output_type": "stream",
          "name": "stdout",
          "text": [
            "Enter value of n (total items): 5\n",
            "Enter value of r (selected items): 3\n",
            "\n",
            "Step-by-step computation for 5P3:\n",
            "5P3 = 5! / (5 - 3)! = 5! / 2!\n",
            "5! = 120\n",
            "2! = 2\n",
            "5P3 = 120 / 2 = 60\n"
          ]
        }
      ],
      "source": [
        "def factorial(n):\n",
        "    if n == 0 or n == 1:\n",
        "        return 1\n",
        "    return n * factorial(n - 1)\n",
        "\n",
        "def permutation(n, r):\n",
        "    return factorial(n) // factorial(n - r)\n",
        "\n",
        "# Main Program\n",
        "n = int(input(\"Enter value of n (total items): \"))\n",
        "r = int(input(\"Enter value of r (selected items): \"))\n",
        "\n",
        "if n < r or n < 0 or r < 0:\n",
        "    print(\"Invalid input! Make sure that n ≥ r and both are non-negative.\")\n",
        "else:\n",
        "    print(f\"\\nStep-by-step computation for {n}P{r}:\")\n",
        "    print(f\"{n}P{r} = {n}! / ({n} - {r})! = {n}! / {n - r}!\")\n",
        "    print(f\"{n}! = {factorial(n)}\")\n",
        "    print(f\"{n - r}! = {factorial(n - r)}\")\n",
        "    print(f\"{n}P{r} = {factorial(n)} / {factorial(n - r)} = {permutation(n, r)}\")"
      ]
    },
    {
      "cell_type": "code",
      "source": [],
      "metadata": {
        "id": "p5sOT0UPbP_I"
      },
      "execution_count": 4,
      "outputs": []
    }
  ]
}