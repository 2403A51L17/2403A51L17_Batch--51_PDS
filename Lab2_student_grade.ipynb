{
  "nbformat": 4,
  "nbformat_minor": 0,
  "metadata": {
    "colab": {
      "provenance": [],
      "authorship_tag": "ABX9TyPgy/SJzS8REaThiplH88vT",
      "include_colab_link": true
    },
    "kernelspec": {
      "name": "python3",
      "display_name": "Python 3"
    },
    "language_info": {
      "name": "python"
    }
  },
  "cells": [
    {
      "cell_type": "markdown",
      "metadata": {
        "id": "view-in-github",
        "colab_type": "text"
      },
      "source": [
        "<a href=\"https://colab.research.google.com/github/2403A51L17/2403A51L17_Batch--51_PDS/blob/main/Lab2_student_grade.ipynb\" target=\"_parent\"><img src=\"https://colab.research.google.com/assets/colab-badge.svg\" alt=\"Open In Colab\"/></a>"
      ]
    },
    {
      "cell_type": "code",
      "execution_count": 1,
      "metadata": {
        "colab": {
          "base_uri": "https://localhost:8080/"
        },
        "id": "J2dwV_RrclN-",
        "outputId": "f3a0dae5-ff55-4ee5-d98f-405bf32202fe"
      },
      "outputs": [
        {
          "output_type": "stream",
          "name": "stdout",
          "text": [
            "Student Marks:\n",
            " [[78 85 90]\n",
            " [92 88 76]\n",
            " [65 70 80]\n",
            " [89 94 91]\n",
            " [55 60 72]]\n",
            "\n",
            "Average Marks of Students: [84.33333333 85.33333333 71.66666667 91.33333333 62.33333333]\n",
            "Minimum Marks of Students: [78 76 65 89 55]\n",
            "Maximum Marks of Students: [90 92 80 94 72]\n",
            "\n",
            "Marks of Student 2: [92 88 76]\n",
            "\n",
            "Boolean Matrix (True = score > 80):\n",
            " [[False  True  True]\n",
            " [ True  True False]\n",
            " [False False False]\n",
            " [ True  True  True]\n",
            " [False False False]]\n",
            "\n",
            "Students scoring above 80 (True=Yes): [ True  True False  True False]\n",
            "\n",
            "Subject-wise Performance:\n",
            " [[78 92 65 89 55]\n",
            " [85 88 70 94 60]\n",
            " [90 76 80 91 72]]\n",
            "\n",
            "Average per Subject: [75.8 79.4 81.8]\n",
            "Minimum per Subject: [55 60 72]\n",
            "Maximum per Subject: [92 94 91]\n",
            "\n",
            "--- Analysis ---\n",
            "Student 4 has the highest average score.\n",
            "Student 5 has the lowest average score.\n",
            "Subject 3 is the best-performing subject overall.\n",
            "Subject 1 is the weakest subject overall.\n"
          ]
        }
      ],
      "source": [
        "import numpy as np\n",
        "\n",
        "marks = np.array([\n",
        "    [78, 85, 90],\n",
        "    [92, 88, 76],\n",
        "    [65, 70, 80],\n",
        "    [89, 94, 91],\n",
        "    [55, 60, 72]\n",
        "])\n",
        "\n",
        "print(\"Student Marks:\\n\", marks)\n",
        "\n",
        "average_marks = np.mean(marks, axis=1)\n",
        "min_marks = np.min(marks, axis=1)\n",
        "max_marks = np.max(marks, axis=1)\n",
        "\n",
        "print(\"\\nAverage Marks of Students:\", average_marks)\n",
        "print(\"Minimum Marks of Students:\", min_marks)\n",
        "print(\"Maximum Marks of Students:\", max_marks)\n",
        "\n",
        "student2_marks = marks[1, :]\n",
        "print(\"\\nMarks of Student 2:\", student2_marks)\n",
        "\n",
        "above_80 = marks > 80\n",
        "print(\"\\nBoolean Matrix (True = score > 80):\\n\", above_80)\n",
        "\n",
        "students_above_80 = np.any(marks > 80, axis=1)\n",
        "print(\"\\nStudents scoring above 80 (True=Yes):\", students_above_80)\n",
        "\n",
        "reshaped = marks.T\n",
        "print(\"\\nSubject-wise Performance:\\n\", reshaped)\n",
        "\n",
        "subject_avg = np.mean(reshaped, axis=1)\n",
        "subject_min = np.min(reshaped, axis=1)\n",
        "subject_max = np.max(reshaped, axis=1)\n",
        "\n",
        "print(\"\\nAverage per Subject:\", subject_avg)\n",
        "print(\"Minimum per Subject:\", subject_min)\n",
        "print(\"Maximum per Subject:\", subject_max)\n",
        "\n",
        "print(\"\\n--- Analysis ---\")\n",
        "print(\"Student 4 has the highest average score.\")\n",
        "print(\"Student 5 has the lowest average score.\")\n",
        "print(\"Subject 3 is the best-performing subject overall.\")\n",
        "print(\"Subject 1 is the weakest subject overall.\")\n"
      ]
    },
    {
      "cell_type": "code",
      "source": [],
      "metadata": {
        "id": "oRRRTuw6c8l3"
      },
      "execution_count": null,
      "outputs": []
    }
  ]
}