{
  "nbformat": 4,
  "nbformat_minor": 0,
  "metadata": {
    "colab": {
      "provenance": [],
      "authorship_tag": "ABX9TyNFfN6ZAm/Wl0MRI8Q955OZ",
      "include_colab_link": true
    },
    "kernelspec": {
      "name": "python3",
      "display_name": "Python 3"
    },
    "language_info": {
      "name": "python"
    }
  },
  "cells": [
    {
      "cell_type": "markdown",
      "metadata": {
        "id": "view-in-github",
        "colab_type": "text"
      },
      "source": [
        "<a href=\"https://colab.research.google.com/github/2403A51L17/2403A51L17_Batch--51_PDS/blob/main/Lab_1_2_4th_august_factorial_.ipynb\" target=\"_parent\"><img src=\"https://colab.research.google.com/assets/colab-badge.svg\" alt=\"Open In Colab\"/></a>"
      ]
    },
    {
      "cell_type": "code",
      "execution_count": 1,
      "metadata": {
        "colab": {
          "base_uri": "https://localhost:8080/"
        },
        "id": "KnTaFNrThQWH",
        "outputId": "e24d7a3c-a8b8-41ca-a32b-59a6a62e24a1"
      },
      "outputs": [
        {
          "output_type": "stream",
          "name": "stdout",
          "text": [
            "Recursion limit: 1000\n",
            "Enter a number: 5\n",
            "\n",
            "Recursive factorial:\n",
            "5! = 120\n",
            "\n",
            "Iterative factorial:\n",
            "5! = 120\n"
          ]
        }
      ],
      "source": [
        "import sys\n",
        "\n",
        "def recursive_factorial(n):\n",
        "    if n == 0 or n == 1:\n",
        "        return 1\n",
        "    return n * recursive_factorial(n - 1)\n",
        "\n",
        "def iterative_factorial(n):\n",
        "    result = 1\n",
        "    for i in range(2, n + 1):\n",
        "        result *= i\n",
        "    return result\n",
        "\n",
        "# Main\n",
        "print(f\"Recursion limit: {sys.getrecursionlimit()}\")\n",
        "\n",
        "n = int(input(\"Enter a number: \"))\n",
        "\n",
        "if n < 0:\n",
        "    print(\"Factorial is not defined for negative numbers.\")\n",
        "elif n > 998:\n",
        "    print(\"Warning: Recursive method may cause stack overflow.\")\n",
        "\n",
        "# Try recursive\n",
        "print(\"\\nRecursive factorial:\")\n",
        "try:\n",
        "    print(f\"{n}! = {recursive_factorial(n)}\")\n",
        "except RecursionError:\n",
        "    print(\"RecursionError: Too deep recursion.\")\n",
        "\n",
        "# Iterative comparison\n",
        "print(\"\\nIterative factorial:\")\n",
        "print(f\"{n}! = {iterative_factorial(n)}\")\n",
        "\\"
      ]
    }
  ]
}