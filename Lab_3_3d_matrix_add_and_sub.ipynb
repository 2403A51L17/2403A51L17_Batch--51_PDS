{
  "nbformat": 4,
  "nbformat_minor": 0,
  "metadata": {
    "colab": {
      "provenance": [],
      "authorship_tag": "ABX9TyOOWEX5QlTULoY5cldId/wq",
      "include_colab_link": true
    },
    "kernelspec": {
      "name": "python3",
      "display_name": "Python 3"
    },
    "language_info": {
      "name": "python"
    }
  },
  "cells": [
    {
      "cell_type": "markdown",
      "metadata": {
        "id": "view-in-github",
        "colab_type": "text"
      },
      "source": [
        "<a href=\"https://colab.research.google.com/github/2403A51L17/2403A51L17_Batch--51_PDS/blob/main/Lab_3_3d_matrix_add_and_sub.ipynb\" target=\"_parent\"><img src=\"https://colab.research.google.com/assets/colab-badge.svg\" alt=\"Open In Colab\"/></a>"
      ]
    },
    {
      "cell_type": "code",
      "execution_count": 2,
      "metadata": {
        "colab": {
          "base_uri": "https://localhost:8080/"
        },
        "id": "fU4xC_KXd8zi",
        "outputId": "e9f5a291-6106-485c-b1ca-d742ce559b68"
      },
      "outputs": [
        {
          "output_type": "stream",
          "name": "stdout",
          "text": [
            "Matrix A:\n",
            " [[38 13 48]\n",
            " [ 4 31 31]\n",
            " [17 29 19]]\n",
            "\n",
            "Matrix B:\n",
            " [[38 23 20]\n",
            " [21 19 28]\n",
            " [21 20 19]]\n",
            "\n",
            "Matrix Addition (A + B):\n",
            " [[76 36 68]\n",
            " [25 50 59]\n",
            " [38 49 38]]\n",
            "\n",
            "Matrix Subtraction (A - B):\n",
            " [[  0 -10  28]\n",
            " [-17  12   3]\n",
            " [ -4   9   0]]\n",
            "\n",
            "Verification for element (0,0): 38 + 38 = 76, 38 - 38 = 0\n"
          ]
        }
      ],
      "source": [
        "import numpy as np\n",
        "\n",
        "A = np.random.randint(1, 50, (3, 3))\n",
        "B = np.random.randint(1, 50, (3, 3))\n",
        "\n",
        "print(\"Matrix A:\\n\", A)\n",
        "print(\"\\nMatrix B:\\n\", B)\n",
        "\n",
        "add_result = np.add(A, B)\n",
        "print(\"\\nMatrix Addition (A + B):\\n\", add_result)\n",
        "\n",
        "sub_result = np.subtract(A, B)\n",
        "print(\"\\nMatrix Subtraction (A - B):\\n\", sub_result)\n",
        "\n",
        "manual_add = A[0, 0] + B[0, 0]\n",
        "manual_sub = A[0, 0] - B[0, 0]\n",
        "print(f\"\\nVerification for element (0,0): {A[0,0]} + {B[0,0]} = {manual_add}, \"\n",
        "      f\"{A[0,0]} - {B[0,0]} = {manual_sub}\")\n"
      ]
    },
    {
      "cell_type": "code",
      "source": [],
      "metadata": {
        "id": "_Y5KrOhdeTMS"
      },
      "execution_count": null,
      "outputs": []
    }
  ]
}