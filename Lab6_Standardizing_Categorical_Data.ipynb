{
  "nbformat": 4,
  "nbformat_minor": 0,
  "metadata": {
    "colab": {
      "provenance": [],
      "authorship_tag": "ABX9TyPynGRfSD7X7E58G9itZ6Jn",
      "include_colab_link": true
    },
    "kernelspec": {
      "name": "python3",
      "display_name": "Python 3"
    },
    "language_info": {
      "name": "python"
    }
  },
  "cells": [
    {
      "cell_type": "markdown",
      "metadata": {
        "id": "view-in-github",
        "colab_type": "text"
      },
      "source": [
        "<a href=\"https://colab.research.google.com/github/2403A51L17/2403A51L17_Batch--51_PDS/blob/main/Lab6_Standardizing_Categorical_Data.ipynb\" target=\"_parent\"><img src=\"https://colab.research.google.com/assets/colab-badge.svg\" alt=\"Open In Colab\"/></a>"
      ]
    },
    {
      "cell_type": "code",
      "execution_count": null,
      "metadata": {
        "id": "em66FQ60sFDW"
      },
      "outputs": [],
      "source": [
        "import pandas as pd\n",
        "\n",
        "# Step 1: Create a sample student dataset with inconsistent categorical labels\n",
        "data = {\n",
        "    \"StudentID\": [1, 2, 3, 4, 5, 6],\n",
        "    \"Name\": [\"Ravi\", \"Sita\", \"Arjun\", \"Meena\", \"Kiran\", \"Lakshmi\"],\n",
        "    \"Gender\": [\"M\", \"Male\", \"male\", \"F\", \"Female\", \"female\"],\n",
        "    \"Marks\": [85, 90, 78, 88, 92, 75]\n",
        "}\n",
        "\n",
        "df = pd.DataFrame(data)\n",
        "\n",
        "print(\"Original Dataset:\")\n",
        "print(df)\n",
        "\n",
        "# Step 2: Standardize categorical data\n",
        "def clean_gender(value):\n",
        "    if str(value).lower() in [\"m\", \"male\"]:\n",
        "        return \"Male\"\n",
        "    elif str(value).lower() in [\"f\", \"female\"]:\n",
        "        return \"Female\"\n",
        "    else:\n",
        "        return \"Unknown\"\n",
        "\n",
        "df[\"Gender\"] = df[\"Gender\"].apply(clean_gender)\n",
        "\n",
        "print(\"\\nCleaned Dataset:\")\n",
        "print(df)\n"
      ]
    }
  ]
}