{
  "nbformat": 4,
  "nbformat_minor": 0,
  "metadata": {
    "colab": {
      "provenance": [],
      "authorship_tag": "ABX9TyOkIN7x9iyIn1Tqra9G0vYx",
      "include_colab_link": true
    },
    "kernelspec": {
      "name": "python3",
      "display_name": "Python 3"
    },
    "language_info": {
      "name": "python"
    }
  },
  "cells": [
    {
      "cell_type": "markdown",
      "metadata": {
        "id": "view-in-github",
        "colab_type": "text"
      },
      "source": [
        "<a href=\"https://colab.research.google.com/github/2403A51L17/2403A51L17_Batch--51_PDS/blob/main/Lab2_Employee_salary.ipynb\" target=\"_parent\"><img src=\"https://colab.research.google.com/assets/colab-badge.svg\" alt=\"Open In Colab\"/></a>"
      ]
    },
    {
      "cell_type": "code",
      "execution_count": 1,
      "metadata": {
        "id": "sSNfvMGhdg9B",
        "outputId": "6a697abe-72d5-4da6-e067-e4cfae210560",
        "colab": {
          "base_uri": "https://localhost:8080/"
        }
      },
      "outputs": [
        {
          "output_type": "stream",
          "name": "stdout",
          "text": [
            "Employee DataFrame:\n",
            "     Name   ID Department  Salary\n",
            "0   Ravi  101         HR   45000\n",
            "1   Sita  102    Finance   60000\n",
            "2  Arjun  103         IT   52000\n",
            "3  Priya  104  Marketing   75000\n",
            "4  Kiran  105         IT   48000\n",
            "\n",
            "Employees with Salary > 50,000:\n",
            "     Name   ID Department  Salary\n",
            "1   Sita  102    Finance   60000\n",
            "2  Arjun  103         IT   52000\n",
            "3  Priya  104  Marketing   75000\n",
            "\n",
            "Employees Sorted by Salary (Descending):\n",
            "     Name   ID Department  Salary\n",
            "3  Priya  104  Marketing   75000\n",
            "1   Sita  102    Finance   60000\n",
            "2  Arjun  103         IT   52000\n",
            "4  Kiran  105         IT   48000\n",
            "0   Ravi  101         HR   45000\n",
            "\n",
            "DataFrame with Bonus Column:\n",
            "     Name   ID Department  Salary   Bonus\n",
            "0   Ravi  101         HR   45000  4500.0\n",
            "1   Sita  102    Finance   60000  6000.0\n",
            "2  Arjun  103         IT   52000  5200.0\n",
            "3  Priya  104  Marketing   75000  7500.0\n",
            "4  Kiran  105         IT   48000  4800.0\n",
            "\n",
            "Total Salary Expense including Bonuses: 308000.0\n",
            "\n",
            "DataFrame saved to 'employee_salary_analysis.csv'\n"
          ]
        }
      ],
      "source": [
        "import pandas as pd\n",
        "\n",
        "# Create DataFrame from dictionary\n",
        "data = {\n",
        "    \"Name\": [\"Ravi\", \"Sita\", \"Arjun\", \"Priya\", \"Kiran\"],\n",
        "    \"ID\": [101, 102, 103, 104, 105],\n",
        "    \"Department\": [\"HR\", \"Finance\", \"IT\", \"Marketing\", \"IT\"],\n",
        "    \"Salary\": [45000, 60000, 52000, 75000, 48000]\n",
        "}\n",
        "\n",
        "df = pd.DataFrame(data)\n",
        "print(\"Employee DataFrame:\\n\", df)\n",
        "\n",
        "# Filter employees with salary > 50,000\n",
        "high_salary = df[df[\"Salary\"] > 50000]\n",
        "print(\"\\nEmployees with Salary > 50,000:\\n\", high_salary)\n",
        "\n",
        "# Sort by salary in descending order\n",
        "sorted_df = df.sort_values(by=\"Salary\", ascending=False)\n",
        "print(\"\\nEmployees Sorted by Salary (Descending):\\n\", sorted_df)\n",
        "\n",
        "# Add Bonus column (10% of salary)\n",
        "df[\"Bonus\"] = df[\"Salary\"] * 0.10\n",
        "print(\"\\nDataFrame with Bonus Column:\\n\", df)\n",
        "\n",
        "# Calculate total salary expense including bonuses\n",
        "df[\"Total_with_Bonus\"] = df[\"Salary\"] + df[\"Bonus\"]\n",
        "total_expense = df[\"Total_with_Bonus\"].sum()\n",
        "print(\"\\nTotal Salary Expense including Bonuses:\", total_expense)\n",
        "\n",
        "# Save DataFrame to CSV\n",
        "df.to_csv(\"employee_salary_analysis.csv\", index=False)\n",
        "print(\"\\nDataFrame saved to 'employee_salary_analysis.csv'\")\n"
      ]
    },
    {
      "cell_type": "code",
      "source": [],
      "metadata": {
        "id": "gdIZ5ulZdmA7"
      },
      "execution_count": null,
      "outputs": []
    }
  ]
}