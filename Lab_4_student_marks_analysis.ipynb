{
  "nbformat": 4,
  "nbformat_minor": 0,
  "metadata": {
    "colab": {
      "provenance": [],
      "authorship_tag": "ABX9TyM1CDnDw6gbkkbFL/80r/88",
      "include_colab_link": true
    },
    "kernelspec": {
      "name": "python3",
      "display_name": "Python 3"
    },
    "language_info": {
      "name": "python"
    }
  },
  "cells": [
    {
      "cell_type": "markdown",
      "metadata": {
        "id": "view-in-github",
        "colab_type": "text"
      },
      "source": [
        "<a href=\"https://colab.research.google.com/github/2403A51L17/2403A51L17_Batch--51_PDS/blob/main/Lab_4_student_marks_analysis.ipynb\" target=\"_parent\"><img src=\"https://colab.research.google.com/assets/colab-badge.svg\" alt=\"Open In Colab\"/></a>"
      ]
    },
    {
      "cell_type": "code",
      "execution_count": 1,
      "metadata": {
        "colab": {
          "base_uri": "https://localhost:8080/"
        },
        "id": "nhDXCoOv4i3v",
        "outputId": "a7906d1b-1648-4aa9-fa1b-209f04b37380"
      },
      "outputs": [
        {
          "output_type": "stream",
          "name": "stdout",
          "text": [
            "Original Dataset:\n",
            "   Student_ID     Name  Math  Science  English\n",
            "0           1     Anil  85.0     90.0     78.0\n",
            "1           2   Sruthi  72.0      NaN     88.0\n",
            "2           3     Ravi  95.0     80.0      NaN\n",
            "3           4    Deepa  60.0     70.0     65.0\n",
            "4           5    Meena   NaN     85.0     92.0\n",
            "5           6  Karthik  78.0     79.0     76.0\n",
            "6           7   Sreeja  88.0     95.0     91.0\n",
            "7           8    Arjun  90.0      NaN     83.0\n",
            "8           9    Divya  66.0     74.0     70.0\n",
            "9          10   Vikram   NaN     88.0     80.0 \n",
            "\n",
            "After Filling Missing Values with Column Average:\n",
            "   Student_ID     Name   Math  Science    English\n",
            "0           1     Anil  85.00   90.000  78.000000\n",
            "1           2   Sruthi  72.00   82.625  88.000000\n",
            "2           3     Ravi  95.00   80.000  80.333333\n",
            "3           4    Deepa  60.00   70.000  65.000000\n",
            "4           5    Meena  79.25   85.000  92.000000\n",
            "5           6  Karthik  78.00   79.000  76.000000\n",
            "6           7   Sreeja  88.00   95.000  91.000000\n",
            "7           8    Arjun  90.00   82.625  83.000000\n",
            "8           9    Divya  66.00   74.000  70.000000\n",
            "9          10   Vikram  79.25   88.000  80.000000 \n",
            "\n",
            "High Achievers (Scored > 75 in all subjects):\n",
            "   Student_ID     Name   Math  Science    English\n",
            "0           1     Anil  85.00   90.000  78.000000\n",
            "2           3     Ravi  95.00   80.000  80.333333\n",
            "4           5    Meena  79.25   85.000  92.000000\n",
            "5           6  Karthik  78.00   79.000  76.000000\n",
            "6           7   Sreeja  88.00   95.000  91.000000\n",
            "7           8    Arjun  90.00   82.625  83.000000\n",
            "9          10   Vikram  79.25   88.000  80.000000\n"
          ]
        }
      ],
      "source": [
        "import pandas as pd\n",
        "\n",
        "df = pd.read_csv(\"student_scores.csv\")\n",
        "print(\"Original Dataset:\")\n",
        "print(df, \"\\n\")\n",
        "\n",
        "df_filled = df.fillna(df.mean(numeric_only=True))\n",
        "print(\"After Filling Missing Values with Column Average:\")\n",
        "print(df_filled, \"\\n\")\n",
        "\n",
        "high_achievers = df_filled[\n",
        "    (df_filled[\"Math\"] > 75) &\n",
        "    (df_filled[\"Science\"] > 75) &\n",
        "    (df_filled[\"English\"] > 75)\n",
        "]\n",
        "print(\"High Achievers (Scored > 75 in all subjects):\")\n",
        "print(high_achievers)\n"
      ]
    }
  ]
}