{
  "nbformat": 4,
  "nbformat_minor": 0,
  "metadata": {
    "colab": {
      "provenance": [],
      "authorship_tag": "ABX9TyMvFJ7Y5GpdF4tAT3P8k7t4",
      "include_colab_link": true
    },
    "kernelspec": {
      "name": "python3",
      "display_name": "Python 3"
    },
    "language_info": {
      "name": "python"
    }
  },
  "cells": [
    {
      "cell_type": "markdown",
      "metadata": {
        "id": "view-in-github",
        "colab_type": "text"
      },
      "source": [
        "<a href=\"https://colab.research.google.com/github/2403A51L17/2403A51L17_Batch--51_PDS/blob/main/Assignment_1_factorial.ipynb\" target=\"_parent\"><img src=\"https://colab.research.google.com/assets/colab-badge.svg\" alt=\"Open In Colab\"/></a>"
      ]
    },
    {
      "cell_type": "code",
      "execution_count": 12,
      "metadata": {
        "id": "-mK2qRu6QFcN"
      },
      "outputs": [],
      "source": [
        "def factorial (n) :\n",
        "  if n==0 or n==1 :\n",
        "    return 1\n",
        "  else:\n",
        "    return n * factorial (n-1)\n",
        "\n"
      ]
    },
    {
      "cell_type": "code",
      "source": [
        "number=int(input(\"enter a number : \"))"
      ],
      "metadata": {
        "colab": {
          "base_uri": "https://localhost:8080/"
        },
        "id": "Ox1kuCVgUHUh",
        "outputId": "cd659f19-686a-4741-fbd2-744e8b4d99bc"
      },
      "execution_count": 13,
      "outputs": [
        {
          "name": "stdout",
          "output_type": "stream",
          "text": [
            "enter a number : 5\n"
          ]
        }
      ]
    },
    {
      "cell_type": "code",
      "source": [
        "if number < 0 :\n",
        "  print (\"Factorial is not defined for negative numbers.\")\n",
        "else :\n",
        "  result=factorial(number)\n",
        "  print (f\"The factorial of {number} is {result}\")\n",
        ""
      ],
      "metadata": {
        "colab": {
          "base_uri": "https://localhost:8080/"
        },
        "id": "c712z853UVoH",
        "outputId": "96da6d1e-3341-45f2-859a-e9b7c07dfd1e"
      },
      "execution_count": 14,
      "outputs": [
        {
          "output_type": "stream",
          "name": "stdout",
          "text": [
            "The factorial of 5 is 120\n"
          ]
        }
      ]
    },
    {
      "cell_type": "code",
      "source": [],
      "metadata": {
        "id": "f81EN7chUoL0"
      },
      "execution_count": 14,
      "outputs": []
    }
  ]
}