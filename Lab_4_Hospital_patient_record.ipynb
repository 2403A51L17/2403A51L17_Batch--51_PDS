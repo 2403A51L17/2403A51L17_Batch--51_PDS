{
  "nbformat": 4,
  "nbformat_minor": 0,
  "metadata": {
    "colab": {
      "provenance": [],
      "authorship_tag": "ABX9TyMWAUFmSCUa7wua/MGVDmG/",
      "include_colab_link": true
    },
    "kernelspec": {
      "name": "python3",
      "display_name": "Python 3"
    },
    "language_info": {
      "name": "python"
    }
  },
  "cells": [
    {
      "cell_type": "markdown",
      "metadata": {
        "id": "view-in-github",
        "colab_type": "text"
      },
      "source": [
        "<a href=\"https://colab.research.google.com/github/2403A51L17/2403A51L17_Batch--51_PDS/blob/main/Lab_4_Hospital_patient_record.ipynb\" target=\"_parent\"><img src=\"https://colab.research.google.com/assets/colab-badge.svg\" alt=\"Open In Colab\"/></a>"
      ]
    },
    {
      "cell_type": "code",
      "execution_count": 2,
      "metadata": {
        "colab": {
          "base_uri": "https://localhost:8080/"
        },
        "id": "EHiv-qCN5hkR",
        "outputId": "e785a275-be9f-42a1-c55a-92aa7777861d"
      },
      "outputs": [
        {
          "output_type": "stream",
          "name": "stdout",
          "text": [
            "Original Dataset:\n",
            "   Patient_ID     Name   Age  Gender      Diagnosis Admission_Date\n",
            "0           1  Lakshmi  65.0  Female       Diabetes     2025-01-15\n",
            "1           2   Ramesh  58.0    Male   Hypertension     2025-02-20\n",
            "2           3  Saritha   NaN  Female       Diabetes     2025-03-12\n",
            "3           4    Anand  45.0    Male       Diabetes     2025-04-10\n",
            "4           5   Geetha  72.0  Female         Asthma     2025-05-03\n",
            "5           6    Meera  54.0  Female       Diabetes     2025-06-18\n",
            "6           7  Krishna  39.0    Male       Diabetes     2025-07-07\n",
            "7           8  Savitha  60.0  Female       Diabetes     2025-07-25\n",
            "8           9   Prasad  80.0    Male  Heart Disease     2025-08-11\n",
            "9          10  Kavitha   NaN  Female       Diabetes     2025-08-20 \n",
            "\n",
            "After Filling Missing Ages with Median:\n",
            "   Patient_ID     Name   Age  Gender      Diagnosis Admission_Date\n",
            "0           1  Lakshmi  65.0  Female       Diabetes     2025-01-15\n",
            "1           2   Ramesh  58.0    Male   Hypertension     2025-02-20\n",
            "2           3  Saritha  59.0  Female       Diabetes     2025-03-12\n",
            "3           4    Anand  45.0    Male       Diabetes     2025-04-10\n",
            "4           5   Geetha  72.0  Female         Asthma     2025-05-03\n",
            "5           6    Meera  54.0  Female       Diabetes     2025-06-18\n",
            "6           7  Krishna  39.0    Male       Diabetes     2025-07-07\n",
            "7           8  Savitha  60.0  Female       Diabetes     2025-07-25\n",
            "8           9   Prasad  80.0    Male  Heart Disease     2025-08-11\n",
            "9          10  Kavitha  59.0  Female       Diabetes     2025-08-20 \n",
            "\n",
            "Elderly Female Patients with Diabetes:\n",
            "   Patient_ID     Name   Age  Gender Diagnosis Admission_Date\n",
            "0           1  Lakshmi  65.0  Female  Diabetes     2025-01-15\n",
            "2           3  Saritha  59.0  Female  Diabetes     2025-03-12\n",
            "5           6    Meera  54.0  Female  Diabetes     2025-06-18\n",
            "7           8  Savitha  60.0  Female  Diabetes     2025-07-25\n",
            "9          10  Kavitha  59.0  Female  Diabetes     2025-08-20\n"
          ]
        }
      ],
      "source": [
        "import pandas as pd\n",
        "\n",
        "df = pd.read_csv(\"patients.csv\")\n",
        "print(\"Original Dataset:\")\n",
        "print(df, \"\\n\")\n",
        "\n",
        "df[\"Age\"] = df[\"Age\"].fillna(df[\"Age\"].median())\n",
        "print(\"After Filling Missing Ages with Median:\")\n",
        "print(df, \"\\n\")\n",
        "\n",
        "elderly_female_diabetes = df[\n",
        "    (df[\"Gender\"] == \"Female\") &\n",
        "    (df[\"Age\"] > 50) &\n",
        "    (df[\"Diagnosis\"].str.lower() == \"diabetes\")\n",
        "]\n",
        "print(\"Elderly Female Patients with Diabetes:\")\n",
        "print(elderly_female_diabetes)\n"
      ]
    }
  ]
}