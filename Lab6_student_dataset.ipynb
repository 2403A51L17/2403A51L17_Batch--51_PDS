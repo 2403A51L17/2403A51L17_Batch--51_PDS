{
  "nbformat": 4,
  "nbformat_minor": 0,
  "metadata": {
    "colab": {
      "provenance": [],
      "authorship_tag": "ABX9TyNM4s75sWVBIhRU1DJSHlIU",
      "include_colab_link": true
    },
    "kernelspec": {
      "name": "python3",
      "display_name": "Python 3"
    },
    "language_info": {
      "name": "python"
    }
  },
  "cells": [
    {
      "cell_type": "markdown",
      "metadata": {
        "id": "view-in-github",
        "colab_type": "text"
      },
      "source": [
        "<a href=\"https://colab.research.google.com/github/2403A51L17/2403A51L17_Batch--51_PDS/blob/main/Lab6_student_dataset.ipynb\" target=\"_parent\"><img src=\"https://colab.research.google.com/assets/colab-badge.svg\" alt=\"Open In Colab\"/></a>"
      ]
    },
    {
      "cell_type": "code",
      "execution_count": 1,
      "metadata": {
        "colab": {
          "base_uri": "https://localhost:8080/"
        },
        "id": "R976fP4oe6LM",
        "outputId": "0fe6b50d-f8f5-4f4f-a77a-17dbf64fd8b1"
      },
      "outputs": [
        {
          "output_type": "stream",
          "name": "stdout",
          "text": [
            "🔹 Before Cleaning:\n",
            "      Name  Gender  Age  Marks\n",
            "0   Sreeja       M   20     85\n",
            "1  Bharath    Male   21     78\n",
            "2    Meena    male   22     92\n",
            "3     Ravi       F   20     70\n",
            "4    Priya  Female   23     88\n",
            "5     Anil  female   21     76\n",
            "\n",
            "🔹 After Cleaning:\n",
            "      Name  Gender  Age  Marks\n",
            "0   Sreeja    Male   20     85\n",
            "1  Bharath    Male   21     78\n",
            "2    Meena    Male   22     92\n",
            "3     Ravi  Female   20     70\n",
            "4    Priya  Female   23     88\n",
            "5     Anil  Female   21     76\n"
          ]
        }
      ],
      "source": [
        "import pandas as pd\n",
        "\n",
        "data = {\n",
        "    \"Name\": [\"Sreeja\", \"Bharath\", \"Meena\", \"Ravi\", \"Priya\", \"Anil\"],\n",
        "    \"Gender\": [\"M\", \"Male\", \"male\", \"F\", \"Female\", \"female\"],\n",
        "    \"Age\": [20, 21, 22, 20, 23, 21],\n",
        "    \"Marks\": [85, 78, 92, 70, 88, 76]\n",
        "}\n",
        "\n",
        "df = pd.DataFrame(data)\n",
        "\n",
        "print(\"🔹 Before Cleaning:\")\n",
        "print(df)\n",
        "\n",
        "df[\"Gender\"] = df[\"Gender\"].str.strip().str.lower()\n",
        "df[\"Gender\"] = df[\"Gender\"].replace({\n",
        "    \"m\": \"Male\",\n",
        "    \"male\": \"Male\",\n",
        "    \"f\": \"Female\",\n",
        "    \"female\": \"Female\"\n",
        "})\n",
        "\n",
        "print(\"\\n🔹 After Cleaning:\")\n",
        "print(df)\n"
      ]
    },
    {
      "cell_type": "code",
      "source": [],
      "metadata": {
        "id": "yJhXB7cee-66"
      },
      "execution_count": null,
      "outputs": []
    }
  ]
}