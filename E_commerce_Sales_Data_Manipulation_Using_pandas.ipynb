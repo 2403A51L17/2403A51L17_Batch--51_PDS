{
  "nbformat": 4,
  "nbformat_minor": 0,
  "metadata": {
    "colab": {
      "provenance": [],
      "authorship_tag": "ABX9TyP7TgvdDqqw2ujJb/qzJdCH",
      "include_colab_link": true
    },
    "kernelspec": {
      "name": "python3",
      "display_name": "Python 3"
    },
    "language_info": {
      "name": "python"
    }
  },
  "cells": [
    {
      "cell_type": "markdown",
      "metadata": {
        "id": "view-in-github",
        "colab_type": "text"
      },
      "source": [
        "<a href=\"https://colab.research.google.com/github/2403A51L17/2403A51L17_Batch--51_PDS/blob/main/E_commerce_Sales_Data_Manipulation_Using_pandas.ipynb\" target=\"_parent\"><img src=\"https://colab.research.google.com/assets/colab-badge.svg\" alt=\"Open In Colab\"/></a>"
      ]
    },
    {
      "cell_type": "code",
      "execution_count": 1,
      "metadata": {
        "colab": {
          "base_uri": "https://localhost:8080/"
        },
        "id": "LVsd3iAFY9Fq",
        "outputId": "0620e958-a6b1-4c1d-c14e-7bc1b87f1e28"
      },
      "outputs": [
        {
          "output_type": "stream",
          "name": "stdout",
          "text": [
            "Initial DataFrame:\n",
            "    Order ID     Product  Quantity  Price\n",
            "0       101      Laptop         2  55000\n",
            "1       102      Mobile         5  15000\n",
            "2       103  Headphones        10   2000\n",
            "3       104      Laptop         1  60000\n",
            "4       105      Tablet         3  25000\n",
            "5       106      Mobile         4  15000\n",
            "\n",
            "DataFrame with Total Sale:\n",
            "    Order ID     Product  Quantity  Price  Total Sale\n",
            "0       101      Laptop         2  55000      110000\n",
            "1       102      Mobile         5  15000       75000\n",
            "2       103  Headphones        10   2000       20000\n",
            "3       104      Laptop         1  60000       60000\n",
            "4       105      Tablet         3  25000       75000\n",
            "5       106      Mobile         4  15000       60000\n",
            "\n",
            "Orders with Total Sale > 1000:\n",
            "    Order ID     Product  Quantity  Price  Total Sale\n",
            "0       101      Laptop         2  55000      110000\n",
            "1       102      Mobile         5  15000       75000\n",
            "2       103  Headphones        10   2000       20000\n",
            "3       104      Laptop         1  60000       60000\n",
            "4       105      Tablet         3  25000       75000\n",
            "5       106      Mobile         4  15000       60000\n",
            "\n",
            "Total Quantity Sold per Product:\n",
            " Product\n",
            "Headphones    10\n",
            "Mobile         9\n",
            "Laptop         3\n",
            "Tablet         3\n",
            "Name: Quantity, dtype: int64\n",
            "\n",
            "Most Sold Product: Headphones\n",
            "\n",
            "DataFrame with Discount:\n",
            "    Order ID     Product  Quantity  Price  Total Sale  Discount\n",
            "0       101      Laptop         2  55000      110000   11000.0\n",
            "1       102      Mobile         5  15000       75000    7500.0\n",
            "2       103  Headphones        10   2000       20000    1000.0\n",
            "3       104      Laptop         1  60000       60000    6000.0\n",
            "4       105      Tablet         3  25000       75000    7500.0\n",
            "5       106      Mobile         4  15000       60000    6000.0\n",
            "\n",
            "Excel file 'sales_summary.xlsx' has been created successfully.\n"
          ]
        }
      ],
      "source": [
        "import pandas as pd\n",
        "\n",
        "data = {\n",
        "    'Order ID': [101, 102, 103, 104, 105, 106],\n",
        "    'Product': ['Laptop', 'Mobile', 'Headphones', 'Laptop', 'Tablet', 'Mobile'],\n",
        "    'Quantity': [2, 5, 10, 1, 3, 4],\n",
        "    'Price': [55000, 15000, 2000, 60000, 25000, 15000]\n",
        "}\n",
        "\n",
        "df = pd.DataFrame(data)\n",
        "print(\"Initial DataFrame:\\n\", df)\n",
        "\n",
        "df['Total Sale'] = df['Quantity'] * df['Price']\n",
        "print(\"\\nDataFrame with Total Sale:\\n\", df)\n",
        "\n",
        "high_sales_df = df[df['Total Sale'] > 1000]\n",
        "print(\"\\nOrders with Total Sale > 1000:\\n\", high_sales_df)\n",
        "\n",
        "most_sold = df.groupby('Product')['Quantity'].sum().sort_values(ascending=False)\n",
        "print(\"\\nTotal Quantity Sold per Product:\\n\", most_sold)\n",
        "most_sold_product = most_sold.idxmax()\n",
        "print(\"\\nMost Sold Product:\", most_sold_product)\n",
        "\n",
        "df['Discount'] = df['Total Sale'].apply(lambda x: 0.10*x if x > 50000 else 0.05*x)\n",
        "print(\"\\nDataFrame with Discount:\\n\", df)\n",
        "\n",
        "df.to_excel('sales_summary.xlsx', index=False)\n",
        "print(\"\\nExcel file 'sales_summary.xlsx' has been created successfully.\")\n"
      ]
    },
    {
      "cell_type": "code",
      "source": [],
      "metadata": {
        "id": "aW1mb-pHZchG"
      },
      "execution_count": null,
      "outputs": []
    }
  ]
}